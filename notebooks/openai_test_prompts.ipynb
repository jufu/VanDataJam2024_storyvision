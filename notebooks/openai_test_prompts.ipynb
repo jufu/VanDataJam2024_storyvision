{
 "cells": [
  {
   "cell_type": "markdown",
   "metadata": {},
   "source": [
    "# OpenAI Testing System and User Prompts\n"
   ]
  },
  {
   "cell_type": "code",
   "execution_count": 2,
   "metadata": {},
   "outputs": [],
   "source": [
    "generated_text = \"\"\"\n",
    "The image is a page from a children's storybook, featuring an illustration of a boy and his mother. The title of the story is not visible in the image.\n",
    "\n",
    "* A boy:\n",
    "\t+ The boy has dark brown hair.\n",
    "\t+ He is wearing a red t-shirt and blue pants.\n",
    "\t+ He is standing in front of a door with his hands on his face.\n",
    "\t+ He appears to be playing \"hide-and-seek\" with his mom.\n",
    "* A woman:\n",
    "\t+ The woman has long dark hair.\n",
    "\t+ She is wearing a pink shirt and green pants.\n",
    "\t+ She is standing behind the door, looking at the boy.\n",
    "\t+ She is smiling and appears to be waiting for the boy to find her.\n",
    "* A door:\n",
    "\t+ The door is brown and has a rectangular shape.\n",
    "\t+ It is located behind the boy and the woman.\n",
    "\t+ It appears to be open, allowing the woman to see the boy.\n",
    "* A wall:\n",
    "\t+ The wall is beige and has a tile floor.\n",
    "\t+ It is located behind the boy and the woman.\n",
    "\t+ It provides a neutral background for the scene.\n",
    "\n",
    "The image suggests that the story is about a boy playing a game of hide-and-seek with his mother. The boy is excitedly waiting for his mom to find him, while his mom is patiently waiting behind the door. The image captures a heartwarming moment between a child and their parent, highlighting the joy and anticipation of playing\n",
    "\"\"\""
   ]
  },
  {
   "cell_type": "code",
   "execution_count": 3,
   "metadata": {},
   "outputs": [
    {
     "name": "stdout",
     "output_type": "stream",
     "text": [
      "2000000\n",
      "ChatCompletion(id='chatcmpl-AMgNFpZ4Jpbfb0HrI2Jq9aGbv4N4D', choices=[Choice(finish_reason='stop', index=0, logprobs=None, message=ChatCompletionMessage(content=\"Once upon a time, there was a cheerful little boy with dark brown hair, wearing a bright red t-shirt and comfy blue pants. He stood in front of a cozy brown door, his hands pressed on his face, peeking through his fingers. Can you guess what he was playing? That's right! He was playing hide-and-seek with his mom!\\n\\nBehind that very door, his mom was waiting patiently, her long dark hair flowing down as she wore a lovely pink shirt and green pants. She had a big smile on her face, ready to jump out and surprise her little adventurer! \\n\\nThe walls were warm beige, and the floor was shiny with tiles, as if they were both sitting in a magical place made just for their game. It was such a joyful moment filled with laughter and excitement, as the boy couldn’t wait for his mom to find him, and she couldn’t wait to see his happy face! What a lovely day for some fun together!\", refusal=None, role='assistant', audio=None, function_call=None, tool_calls=None))], created=1729969465, model='gpt-4o-mini-2024-07-18', object='chat.completion', service_tier=None, system_fingerprint='fp_f59a81427f', usage=CompletionUsage(completion_tokens=196, prompt_tokens=397, total_tokens=593, completion_tokens_details=CompletionTokensDetails(audio_tokens=None, reasoning_tokens=0), prompt_tokens_details=PromptTokensDetails(audio_tokens=None, cached_tokens=0)))\n"
     ]
    }
   ],
   "source": [
    "from openai import OpenAI\n",
    "\n",
    "# Set your OpenAI API key\n",
    "api_key = \"OpenAI API key\"\n",
    "\n",
    "client = OpenAI(\n",
    "    api_key=api_key,  # this is also the default, it can be omitted\n",
    ")\n",
    "\n",
    "response = client.chat.completions.with_raw_response.create(\n",
    "    messages=[\n",
    "        {\n",
    "            \"role\": \"system\",\n",
    "            \"content\": \"Imagine you are telling a story to a young child based on a children’s storybook page description. Summarize the description in simple, engaging language as if you are narrating a story aloud, using phrases and words that bring each scene to life and create a warm, friendly tone. Keep it concise but add a sense of wonder or excitement that will work well for text-to-speech narration.\",\n",
    "        },\n",
    "        {\n",
    "            \"role\": \"user\",\n",
    "            \"content\": f\"Here is the page description: {generated_text}\",\n",
    "        },\n",
    "    ],\n",
    "    model=\"gpt-4o-mini\",\n",
    ")\n",
    "print(response.headers.get(\"x-ratelimit-limit-tokens\"))\n",
    "\n",
    "# get the object that `chat.completions.create()` would have returned\n",
    "completion = response.parse()\n",
    "print(completion)"
   ]
  },
  {
   "cell_type": "code",
   "execution_count": 5,
   "metadata": {},
   "outputs": [
    {
     "name": "stdout",
     "output_type": "stream",
     "text": [
      "Once upon a time, there was a cheerful little boy with dark brown hair, wearing a bright red t-shirt and comfy blue pants. He stood in front of a cozy brown door, his hands pressed on his face, peeking through his fingers. Can you guess what he was playing? That's right! He was playing hide-and-seek with his mom!\n",
      "\n",
      "Behind that very door, his mom was waiting patiently, her long dark hair flowing down as she wore a lovely pink shirt and green pants. She had a big smile on her face, ready to jump out and surprise her little adventurer! \n",
      "\n",
      "The walls were warm beige, and the floor was shiny with tiles, as if they were both sitting in a magical place made just for their game. It was such a joyful moment filled with laughter and excitement, as the boy couldn’t wait for his mom to find him, and she couldn’t wait to see his happy face! What a lovely day for some fun together!\n"
     ]
    }
   ],
   "source": [
    "first_choice = completion.choices[0].message.content\n",
    "print(first_choice)"
   ]
  },
  {
   "cell_type": "code",
   "execution_count": null,
   "metadata": {},
   "outputs": [],
   "source": []
  }
 ],
 "metadata": {
  "kernelspec": {
   "display_name": ".venv",
   "language": "python",
   "name": "python3"
  },
  "language_info": {
   "codemirror_mode": {
    "name": "ipython",
    "version": 3
   },
   "file_extension": ".py",
   "mimetype": "text/x-python",
   "name": "python",
   "nbconvert_exporter": "python",
   "pygments_lexer": "ipython3",
   "version": "3.10.7"
  }
 },
 "nbformat": 4,
 "nbformat_minor": 2
}
